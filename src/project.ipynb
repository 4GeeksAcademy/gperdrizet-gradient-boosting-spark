{
 "cells": [
  {
   "cell_type": "markdown",
   "metadata": {},
   "source": [
    "# Diabetes prediction: gradient boosting model with XGBoost & Spark\n",
    "\n",
    "## 1. Notebooks set-up"
   ]
  },
  {
   "cell_type": "code",
   "execution_count": null,
   "metadata": {},
   "outputs": [],
   "source": [
    "import pickle\n",
    "import pandas as pd\n",
    "from pyspark.sql import SparkSession\n",
    "from sklearn.model_selection import train_test_split\n",
    "from sklearn.impute import KNNImputer\n",
    "from xgboost.spark import SparkXGBRegressor\n",
    "\n",
    "spark=SparkSession\\\n",
    "    .builder\\\n",
    "    .master('spark://0.0.0.0:7077')\\\n",
    "    .appName('GradientBoostingClassifier')\\\n",
    "    .getOrCreate()"
   ]
  },
  {
   "cell_type": "markdown",
   "metadata": {},
   "source": [
    "## 2. Data preparation\n",
    "\n",
    "### 2.1. Data loading"
   ]
  },
  {
   "cell_type": "code",
   "execution_count": null,
   "metadata": {},
   "outputs": [],
   "source": [
    "url='https://raw.githubusercontent.com/4GeeksAcademy/decision-tree-project-tutorial/main/diabetes.csv'\n",
    "data_df=pd.read_csv(url)\n",
    "data_df.drop_duplicates().reset_index(drop=True, inplace=True)\n",
    "data_df.head()"
   ]
  },
  {
   "cell_type": "markdown",
   "metadata": {},
   "source": [
    "### 2.2. Train-test split"
   ]
  },
  {
   "cell_type": "code",
   "execution_count": null,
   "metadata": {},
   "outputs": [],
   "source": [
    "training_df, testing_df=train_test_split(\n",
    "    data_df,\n",
    "    test_size=0.25,\n",
    "    random_state=315\n",
    ")"
   ]
  },
  {
   "cell_type": "markdown",
   "metadata": {},
   "source": [
    "### 2.3. Imputation of zeros"
   ]
  },
  {
   "cell_type": "code",
   "execution_count": null,
   "metadata": {},
   "outputs": [],
   "source": [
    "imputed_features=['Insulin','SkinThickness','BloodPressure','BMI','Glucose']\n",
    "knn_imputer=KNNImputer(missing_values=0.0, weights='distance')\n",
    "knn_imputer.fit(training_df[imputed_features])\n",
    "training_df[imputed_features]=knn_imputer.transform(training_df[imputed_features])\n",
    "testing_df[imputed_features]=knn_imputer.transform(testing_df[imputed_features])"
   ]
  },
  {
   "cell_type": "markdown",
   "metadata": {},
   "source": [
    "### 2.4. Convert to Spark dataframe"
   ]
  },
  {
   "cell_type": "code",
   "execution_count": null,
   "metadata": {},
   "outputs": [],
   "source": [
    "training_sdf=spark.createDataFrame(training_df)\n",
    "testing_sdf=spark.createDataFrame(testing_df)\n",
    "\n",
    "training_sdf.show()"
   ]
  },
  {
   "cell_type": "markdown",
   "metadata": {},
   "source": [
    "## 3. XGBoost model"
   ]
  },
  {
   "cell_type": "code",
   "execution_count": null,
   "metadata": {},
   "outputs": [],
   "source": [
    "label_name = 'Outcome'\n",
    "\n",
    "# get a list with feature column names\n",
    "feature_names = [x.name for x in training_sdf.schema if x.name != label_name]\n",
    "\n",
    "# create a xgboost pyspark regressor estimator and set device=\"cuda\"\n",
    "regressor = SparkXGBRegressor(\n",
    "    features_col=feature_names,\n",
    "    label_col=label_name,\n",
    "    num_workers=1\n",
    ")\n",
    "\n",
    "# train and return the model\n",
    "model = regressor.fit(training_sdf)\n",
    "\n",
    "# predict on test data\n",
    "predict_df = model.transform(testing_sdf)\n",
    "predict_df.show()"
   ]
  },
  {
   "cell_type": "markdown",
   "metadata": {},
   "source": [
    "## End SparkSession"
   ]
  },
  {
   "cell_type": "code",
   "execution_count": null,
   "metadata": {},
   "outputs": [],
   "source": [
    "spark.stop()"
   ]
  }
 ],
 "metadata": {
  "kernelspec": {
   "display_name": "Python 3",
   "language": "python",
   "name": "python3"
  },
  "language_info": {
   "codemirror_mode": {
    "name": "ipython",
    "version": 3
   },
   "file_extension": ".py",
   "mimetype": "text/x-python",
   "name": "python",
   "nbconvert_exporter": "python",
   "pygments_lexer": "ipython3",
   "version": "3.11.4"
  }
 },
 "nbformat": 4,
 "nbformat_minor": 2
}

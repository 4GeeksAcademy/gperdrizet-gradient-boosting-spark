{
 "cells": [
  {
   "cell_type": "markdown",
   "metadata": {},
   "source": [
    "# Diabetes prediction: gradient boosting model with Spark\n",
    "\n",
    "## 1. Notebooks set-up"
   ]
  },
  {
   "cell_type": "code",
   "execution_count": 1,
   "metadata": {},
   "outputs": [
    {
     "name": "stderr",
     "output_type": "stream",
     "text": [
      "25/03/16 03:49:12 WARN Utils: Your hostname, codespaces-b9e35a resolves to a loopback address: 127.0.0.1; using 10.0.2.237 instead (on interface eth0)\n",
      "25/03/16 03:49:12 WARN Utils: Set SPARK_LOCAL_IP if you need to bind to another address\n",
      "Setting default log level to \"WARN\".\n",
      "To adjust logging level use sc.setLogLevel(newLevel). For SparkR, use setLogLevel(newLevel).\n",
      "25/03/16 03:49:13 WARN NativeCodeLoader: Unable to load native-hadoop library for your platform... using builtin-java classes where applicable\n"
     ]
    }
   ],
   "source": [
    "import pandas as pd\n",
    "from pyspark.sql import SparkSession\n",
    "from pyspark.ml.classification import GBTClassifier\n",
    "from pyspark.ml.evaluation import MulticlassClassificationEvaluator\n",
    "from sklearn.model_selection import train_test_split\n",
    "from sklearn.impute import KNNImputer\n",
    "\n",
    "spark=SparkSession\\\n",
    "    .builder\\\n",
    "    .master('spark://0.0.0.0:7077')\\\n",
    "    .appName('GradientBoostingClassifier')\\\n",
    "    .getOrCreate()"
   ]
  },
  {
   "cell_type": "markdown",
   "metadata": {},
   "source": [
    "## 2. Data preparation\n",
    "\n",
    "### 2.1. Data loading"
   ]
  },
  {
   "cell_type": "code",
   "execution_count": 2,
   "metadata": {},
   "outputs": [
    {
     "data": {
      "text/html": [
       "<div>\n",
       "<style scoped>\n",
       "    .dataframe tbody tr th:only-of-type {\n",
       "        vertical-align: middle;\n",
       "    }\n",
       "\n",
       "    .dataframe tbody tr th {\n",
       "        vertical-align: top;\n",
       "    }\n",
       "\n",
       "    .dataframe thead th {\n",
       "        text-align: right;\n",
       "    }\n",
       "</style>\n",
       "<table border=\"1\" class=\"dataframe\">\n",
       "  <thead>\n",
       "    <tr style=\"text-align: right;\">\n",
       "      <th></th>\n",
       "      <th>Pregnancies</th>\n",
       "      <th>Glucose</th>\n",
       "      <th>BloodPressure</th>\n",
       "      <th>SkinThickness</th>\n",
       "      <th>Insulin</th>\n",
       "      <th>BMI</th>\n",
       "      <th>DiabetesPedigreeFunction</th>\n",
       "      <th>Age</th>\n",
       "      <th>Outcome</th>\n",
       "    </tr>\n",
       "  </thead>\n",
       "  <tbody>\n",
       "    <tr>\n",
       "      <th>0</th>\n",
       "      <td>6</td>\n",
       "      <td>148</td>\n",
       "      <td>72</td>\n",
       "      <td>35</td>\n",
       "      <td>0</td>\n",
       "      <td>33.6</td>\n",
       "      <td>0.627</td>\n",
       "      <td>50</td>\n",
       "      <td>1</td>\n",
       "    </tr>\n",
       "    <tr>\n",
       "      <th>1</th>\n",
       "      <td>1</td>\n",
       "      <td>85</td>\n",
       "      <td>66</td>\n",
       "      <td>29</td>\n",
       "      <td>0</td>\n",
       "      <td>26.6</td>\n",
       "      <td>0.351</td>\n",
       "      <td>31</td>\n",
       "      <td>0</td>\n",
       "    </tr>\n",
       "    <tr>\n",
       "      <th>2</th>\n",
       "      <td>8</td>\n",
       "      <td>183</td>\n",
       "      <td>64</td>\n",
       "      <td>0</td>\n",
       "      <td>0</td>\n",
       "      <td>23.3</td>\n",
       "      <td>0.672</td>\n",
       "      <td>32</td>\n",
       "      <td>1</td>\n",
       "    </tr>\n",
       "    <tr>\n",
       "      <th>3</th>\n",
       "      <td>1</td>\n",
       "      <td>89</td>\n",
       "      <td>66</td>\n",
       "      <td>23</td>\n",
       "      <td>94</td>\n",
       "      <td>28.1</td>\n",
       "      <td>0.167</td>\n",
       "      <td>21</td>\n",
       "      <td>0</td>\n",
       "    </tr>\n",
       "    <tr>\n",
       "      <th>4</th>\n",
       "      <td>0</td>\n",
       "      <td>137</td>\n",
       "      <td>40</td>\n",
       "      <td>35</td>\n",
       "      <td>168</td>\n",
       "      <td>43.1</td>\n",
       "      <td>2.288</td>\n",
       "      <td>33</td>\n",
       "      <td>1</td>\n",
       "    </tr>\n",
       "  </tbody>\n",
       "</table>\n",
       "</div>"
      ],
      "text/plain": [
       "   Pregnancies  Glucose  BloodPressure  SkinThickness  Insulin   BMI  \\\n",
       "0            6      148             72             35        0  33.6   \n",
       "1            1       85             66             29        0  26.6   \n",
       "2            8      183             64              0        0  23.3   \n",
       "3            1       89             66             23       94  28.1   \n",
       "4            0      137             40             35      168  43.1   \n",
       "\n",
       "   DiabetesPedigreeFunction  Age  Outcome  \n",
       "0                     0.627   50        1  \n",
       "1                     0.351   31        0  \n",
       "2                     0.672   32        1  \n",
       "3                     0.167   21        0  \n",
       "4                     2.288   33        1  "
      ]
     },
     "execution_count": 2,
     "metadata": {},
     "output_type": "execute_result"
    }
   ],
   "source": [
    "url='https://raw.githubusercontent.com/4GeeksAcademy/decision-tree-project-tutorial/main/diabetes.csv'\n",
    "data_df=pd.read_csv(url)\n",
    "data_df.drop_duplicates().reset_index(drop=True, inplace=True)\n",
    "data_df.head()"
   ]
  },
  {
   "cell_type": "markdown",
   "metadata": {},
   "source": [
    "### 2.2. Train-test split"
   ]
  },
  {
   "cell_type": "code",
   "execution_count": 3,
   "metadata": {},
   "outputs": [],
   "source": [
    "training_df, testing_df=train_test_split(\n",
    "    data_df,\n",
    "    test_size=0.25,\n",
    "    random_state=315\n",
    ")"
   ]
  },
  {
   "cell_type": "markdown",
   "metadata": {},
   "source": [
    "### 2.3. Imputation of zeros"
   ]
  },
  {
   "cell_type": "code",
   "execution_count": 4,
   "metadata": {},
   "outputs": [],
   "source": [
    "imputed_features=['Insulin','SkinThickness','BloodPressure','BMI','Glucose']\n",
    "knn_imputer=KNNImputer(missing_values=0.0, weights='distance')\n",
    "knn_imputer.fit(training_df[imputed_features])\n",
    "training_df[imputed_features]=knn_imputer.transform(training_df[imputed_features])\n",
    "testing_df[imputed_features]=knn_imputer.transform(testing_df[imputed_features])"
   ]
  },
  {
   "cell_type": "markdown",
   "metadata": {},
   "source": [
    "### 2.4. Convert to Spark dataframe"
   ]
  },
  {
   "cell_type": "code",
   "execution_count": 5,
   "metadata": {},
   "outputs": [
    {
     "name": "stderr",
     "output_type": "stream",
     "text": [
      "                                                                                \r"
     ]
    },
    {
     "name": "stdout",
     "output_type": "stream",
     "text": [
      "+-----------+------------------+-------------+------------------+------------------+----+------------------------+---+-------+\n",
      "|Pregnancies|           Glucose|BloodPressure|     SkinThickness|           Insulin| BMI|DiabetesPedigreeFunction|Age|Outcome|\n",
      "+-----------+------------------+-------------+------------------+------------------+----+------------------------+---+-------+\n",
      "|          4|             110.0|         92.0|30.539537443023107|139.60582970412264|37.6|                   0.191| 30|      0|\n",
      "|          0|             111.0|         65.0| 20.26110582322676| 145.4968462354687|24.6|                    0.66| 31|      0|\n",
      "|          9|             122.0|         56.0|31.994558582756465|122.47686213223982|33.3|                   1.114| 33|      1|\n",
      "|          1|             128.0|         98.0|              41.0|              58.0|32.0|                   1.321| 33|      1|\n",
      "|          1|             172.0|         68.0|              49.0|             579.0|42.4|                   0.702| 28|      1|\n",
      "|          4|             184.0|         78.0|              39.0|             277.0|37.0|                   0.264| 31|      1|\n",
      "|          9|             119.0|         80.0|              35.0|134.53684498832158|29.0|                   0.263| 29|      1|\n",
      "|          0|             147.0|         85.0|              54.0|284.07931562054426|42.8|                   0.375| 24|      0|\n",
      "|          6|             151.0|         62.0|              31.0|             120.0|35.5|                   0.692| 28|      0|\n",
      "|          8|             143.0|         66.0|33.853558129838085| 269.1004414416513|34.9|                   0.129| 41|      1|\n",
      "|          2|             120.0|         54.0|18.890381552671684|118.85908913513836|26.8|                   0.455| 27|      0|\n",
      "|         12|              88.0|         74.0|              40.0|              54.0|35.3|                   0.378| 48|      0|\n",
      "|         10|             125.0|         70.0|              26.0|             115.0|31.1|                   0.205| 41|      1|\n",
      "|          1|143.13753029382528|         68.0|              35.0| 268.5244986578152|32.0|                   0.389| 22|      0|\n",
      "|         10|             179.0|         70.0| 35.19784485665882| 226.5920524813318|35.1|                     0.2| 37|      0|\n",
      "|          6|             129.0|         90.0|               7.0|             326.0|19.6|                   0.582| 60|      0|\n",
      "|          0|              93.0|         60.0|              25.0|              92.0|28.7|                   0.532| 22|      0|\n",
      "|         10|             139.0|         80.0|   22.231385361516|161.49966002945206|27.1|                   1.441| 57|      0|\n",
      "|          8|             109.0|         76.0|              39.0|             114.0|27.9|                    0.64| 31|      1|\n",
      "|          4|             145.0|         82.0|              18.0|  203.828232529656|32.5|                   0.235| 70|      1|\n",
      "+-----------+------------------+-------------+------------------+------------------+----+------------------------+---+-------+\n",
      "only showing top 20 rows\n",
      "\n"
     ]
    }
   ],
   "source": [
    "training_sdf=spark.createDataFrame(training_df)\n",
    "testing_sdf=spark.createDataFrame(testing_df)\n",
    "\n",
    "training_sdf.show()"
   ]
  },
  {
   "cell_type": "markdown",
   "metadata": {},
   "source": [
    "### 2.5. Convert features to vector column"
   ]
  },
  {
   "cell_type": "code",
   "execution_count": 6,
   "metadata": {},
   "outputs": [
    {
     "name": "stderr",
     "output_type": "stream",
     "text": [
      "[Stage 1:>                                                          (0 + 1) / 1]\r"
     ]
    },
    {
     "name": "stdout",
     "output_type": "stream",
     "text": [
      "+--------------------+-------+\n",
      "|            Features|Outcome|\n",
      "+--------------------+-------+\n",
      "|[4.0,110.0,92.0,3...|      0|\n",
      "|[0.0,111.0,65.0,2...|      0|\n",
      "|[9.0,122.0,56.0,3...|      1|\n",
      "|[1.0,128.0,98.0,4...|      1|\n",
      "|[1.0,172.0,68.0,4...|      1|\n",
      "|[4.0,184.0,78.0,3...|      1|\n",
      "|[9.0,119.0,80.0,3...|      1|\n",
      "|[0.0,147.0,85.0,5...|      0|\n",
      "|[6.0,151.0,62.0,3...|      0|\n",
      "|[8.0,143.0,66.0,3...|      1|\n",
      "|[2.0,120.0,54.0,1...|      0|\n",
      "|[12.0,88.0,74.0,4...|      0|\n",
      "|[10.0,125.0,70.0,...|      1|\n",
      "|[1.0,143.13753029...|      0|\n",
      "|[10.0,179.0,70.0,...|      0|\n",
      "|[6.0,129.0,90.0,7...|      0|\n",
      "|[0.0,93.0,60.0,25...|      0|\n",
      "|[10.0,139.0,80.0,...|      0|\n",
      "|[8.0,109.0,76.0,3...|      1|\n",
      "|[4.0,145.0,82.0,1...|      1|\n",
      "+--------------------+-------+\n",
      "only showing top 20 rows\n",
      "\n"
     ]
    },
    {
     "name": "stderr",
     "output_type": "stream",
     "text": [
      "                                                                                \r"
     ]
    }
   ],
   "source": [
    "from pyspark.ml.feature import VectorAssembler\n",
    "\n",
    "label_name = 'Outcome'\n",
    "feature_names = [x.name for x in training_sdf.schema if x.name != label_name]\n",
    "\n",
    "assembler = VectorAssembler(\n",
    "    inputCols=feature_names,\n",
    "    outputCol='Features'\n",
    ")\n",
    "\n",
    "vectorized_training_sdf = assembler.transform(training_sdf).select('Features', 'Outcome')\n",
    "vectorized_testing_sdf = assembler.transform(testing_sdf).select('Features', 'Outcome')\n",
    "\n",
    "vectorized_training_sdf.show()"
   ]
  },
  {
   "cell_type": "markdown",
   "metadata": {},
   "source": [
    "## 3. Gradient boosting classifier model\n",
    "\n",
    "## 3.1. Model training"
   ]
  },
  {
   "cell_type": "code",
   "execution_count": 7,
   "metadata": {},
   "outputs": [
    {
     "name": "stderr",
     "output_type": "stream",
     "text": [
      "                                                                                \r"
     ]
    }
   ],
   "source": [
    "# Create the gradient boosing classifier\n",
    "gbt_classifier = GBTClassifier(labelCol=label_name, featuresCol='Features', maxIter=100)\n",
    "\n",
    "# train and return the model\n",
    "model = gbt_classifier.fit(vectorized_training_sdf)"
   ]
  },
  {
   "cell_type": "markdown",
   "metadata": {},
   "source": [
    "### 3.2. Model evaluation"
   ]
  },
  {
   "cell_type": "code",
   "execution_count": 10,
   "metadata": {},
   "outputs": [
    {
     "name": "stdout",
     "output_type": "stream",
     "text": [
      "Test accuracy: 77.1%\n"
     ]
    }
   ],
   "source": [
    "predictions = model.transform(vectorized_testing_sdf)\n",
    "\n",
    "evaluator = MulticlassClassificationEvaluator(\n",
    "    labelCol='Outcome',\n",
    "    predictionCol='prediction',\n",
    "    metricName='accuracy'\n",
    ")\n",
    "\n",
    "accuracy = evaluator.evaluate(predictions)\n",
    "print(f'Test accuracy: {accuracy*100:.1f}%')"
   ]
  },
  {
   "cell_type": "markdown",
   "metadata": {},
   "source": [
    "## End SparkSession"
   ]
  },
  {
   "cell_type": "code",
   "execution_count": 11,
   "metadata": {},
   "outputs": [],
   "source": [
    "spark.stop()"
   ]
  }
 ],
 "metadata": {
  "kernelspec": {
   "display_name": "Python 3",
   "language": "python",
   "name": "python3"
  },
  "language_info": {
   "codemirror_mode": {
    "name": "ipython",
    "version": 3
   },
   "file_extension": ".py",
   "mimetype": "text/x-python",
   "name": "python",
   "nbconvert_exporter": "python",
   "pygments_lexer": "ipython3",
   "version": "3.11.4"
  }
 },
 "nbformat": 4,
 "nbformat_minor": 2
}
